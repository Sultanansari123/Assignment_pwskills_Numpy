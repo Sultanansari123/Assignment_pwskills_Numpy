{
 "cells": [
  {
   "cell_type": "markdown",
   "id": "af775d4d-36ee-457a-8384-bce1a27c7cb3",
   "metadata": {},
   "source": [
    "# NumPy"
   ]
  },
  {
   "cell_type": "markdown",
   "id": "4945c2cf-19e9-4669-8efd-54f91318c1f1",
   "metadata": {},
   "source": [
    "# Ans-1"
   ]
  },
  {
   "cell_type": "code",
   "execution_count": 4,
   "id": "4faa0508-dafe-4b8e-8290-8f432d868290",
   "metadata": {},
   "outputs": [
    {
     "name": "stdout",
     "output_type": "stream",
     "text": [
      "<class 'types.GenericAlias'>\n",
      "<class 'numpy.str_'>\n",
      "<class 'list'>\n",
      "<class 'numpy.ndarray'>\n"
     ]
    }
   ],
   "source": [
    "import numpy as np\n",
    "\n",
    "list_ = [ \"1\" , \"2\" , \"3\" , \"4\" , \"5\" ]\n",
    "\n",
    "array_list = np.array(object = list_ )\n",
    "print(type(list_))\n",
    "print(type(array_list))\n",
    "      "
   ]
  },
  {
   "cell_type": "markdown",
   "id": "7c8cd4e4-6496-4e78-bb6b-fbcdf2eeef50",
   "metadata": {},
   "source": [
    "# Ans2-"
   ]
  },
  {
   "cell_type": "code",
   "execution_count": 5,
   "id": "eb0b1ab5-7892-4874-82e4-8bbc0cf7f4f8",
   "metadata": {},
   "outputs": [
    {
     "name": "stdout",
     "output_type": "stream",
     "text": [
      "<class 'str'>\n",
      "<class 'str'>\n",
      "<class 'str'>\n",
      "<class 'str'>\n",
      "<class 'str'>\n"
     ]
    }
   ],
   "source": [
    "# Print list element datatype\n",
    "for element in list_:\n",
    "    print(type(element))\n"
   ]
  },
  {
   "cell_type": "code",
   "execution_count": 6,
   "id": "f0b5f208-7095-4dbe-9089-8870c7a30829",
   "metadata": {},
   "outputs": [
    {
     "name": "stdout",
     "output_type": "stream",
     "text": [
      "<class 'numpy.str_'>\n",
      "<class 'numpy.str_'>\n",
      "<class 'numpy.str_'>\n",
      "<class 'numpy.str_'>\n",
      "<class 'numpy.str_'>\n"
     ]
    }
   ],
   "source": [
    "#print array list element datatype\n",
    "for element in array_list:\n",
    "    print(type(element))"
   ]
  },
  {
   "cell_type": "code",
   "execution_count": 7,
   "id": "c6ceb1c2-9aa4-4a67-9de3-8587473165ab",
   "metadata": {},
   "outputs": [
    {
     "name": "stdout",
     "output_type": "stream",
     "text": [
      "Type of element 1 in list_: <class 'str'>\n",
      "Type of element 2 in list_: <class 'str'>\n",
      "Type of element 3 in list_: <class 'str'>\n",
      "Type of element 4 in list_: <class 'str'>\n",
      "Type of element 5 in list_: <class 'str'>\n"
     ]
    }
   ],
   "source": [
    "for i, element in enumerate(list_):\n",
    "    print(f\"Type of element {i+1} in list_: {type(element)}\")"
   ]
  },
  {
   "cell_type": "code",
   "execution_count": 9,
   "id": "c015a583-b61d-4466-a5cb-80d513af8f60",
   "metadata": {},
   "outputs": [
    {
     "name": "stdout",
     "output_type": "stream",
     "text": [
      "type of element 1 in array list:<class 'numpy.str_'>\n",
      "type of element 2 in array list:<class 'numpy.str_'>\n",
      "type of element 3 in array list:<class 'numpy.str_'>\n",
      "type of element 4 in array list:<class 'numpy.str_'>\n",
      "type of element 5 in array list:<class 'numpy.str_'>\n"
     ]
    }
   ],
   "source": [
    "for i,element in enumerate(array_list):\n",
    "    print(f\"type of element {i+1} in array list:{type(element)}\")"
   ]
  },
  {
   "cell_type": "markdown",
   "id": "6940b50c-42e3-4ffd-b211-8a24f0e78f9b",
   "metadata": {},
   "source": [
    "# Ans3- "
   ]
  },
  {
   "cell_type": "code",
   "execution_count": 10,
   "id": "0df44b0a-9c89-4553-bad9-246b30f12a4d",
   "metadata": {},
   "outputs": [],
   "source": [
    "num_list = [ [ 1 , 2 , 3 ] , [ 4 , 5 , 6 ] ]\n",
    "\n",
    "num_array = np.array(object = num_list)"
   ]
  },
  {
   "cell_type": "code",
   "execution_count": 11,
   "id": "ef34c424-7fd7-4eb9-8f5e-e4f3d7034395",
   "metadata": {},
   "outputs": [
    {
     "data": {
      "text/plain": [
       "[[1, 2, 3], [4, 5, 6]]"
      ]
     },
     "execution_count": 11,
     "metadata": {},
     "output_type": "execute_result"
    }
   ],
   "source": [
    "num_list"
   ]
  },
  {
   "cell_type": "code",
   "execution_count": 12,
   "id": "f117c1be-bd2c-46a0-9317-6b6c9e2bde7a",
   "metadata": {},
   "outputs": [
    {
     "data": {
      "text/plain": [
       "array([[1, 2, 3],\n",
       "       [4, 5, 6]])"
      ]
     },
     "execution_count": 12,
     "metadata": {},
     "output_type": "execute_result"
    }
   ],
   "source": [
    "num_array"
   ]
  },
  {
   "cell_type": "code",
   "execution_count": 16,
   "id": "6d3cba9c-4c15-4b4a-a099-126370215800",
   "metadata": {},
   "outputs": [
    {
     "name": "stdout",
     "output_type": "stream",
     "text": [
      "type of element 1 in num_list:<class 'list'>\n",
      "type of element 2 in num_list:<class 'list'>\n"
     ]
    }
   ],
   "source": [
    "# print datatype of each and every element in num_list\n",
    "for i,element in enumerate(num_list):\n",
    "    print(f\"type of element {i+1} in num_list:{ type(element)}\")"
   ]
  },
  {
   "cell_type": "code",
   "execution_count": 17,
   "id": "3b258431-d133-439f-851c-d4020d33d625",
   "metadata": {},
   "outputs": [
    {
     "name": "stdout",
     "output_type": "stream",
     "text": [
      " type of element 1 in num_array:<class 'numpy.ndarray'>\n",
      " type of element 2 in num_array:<class 'numpy.ndarray'>\n"
     ]
    }
   ],
   "source": [
    "#Print the each and every element in num array\n",
    "for i,element in enumerate(num_array):\n",
    "    print(f\" type of element {i+1} in num_array:{type(element)}\")"
   ]
  },
  {
   "cell_type": "markdown",
   "id": "1d074898-5b06-4545-b7ae-ccdd7df782d6",
   "metadata": {},
   "source": [
    "# Ans4-"
   ]
  },
  {
   "cell_type": "code",
   "execution_count": 20,
   "id": "5ec5135b-d495-4496-9d2e-4f7fe3f8301c",
   "metadata": {},
   "outputs": [
    {
     "data": {
      "text/plain": [
       "(2, 3)"
      ]
     },
     "execution_count": 20,
     "metadata": {},
     "output_type": "execute_result"
    }
   ],
   "source": [
    "# shape\n",
    "num_array.shape"
   ]
  },
  {
   "cell_type": "code",
   "execution_count": 21,
   "id": "be2b8230-2137-403a-ad60-24bbf7b2532b",
   "metadata": {},
   "outputs": [
    {
     "data": {
      "text/plain": [
       "6"
      ]
     },
     "execution_count": 21,
     "metadata": {},
     "output_type": "execute_result"
    }
   ],
   "source": [
    "# size\n",
    "num_array.size"
   ]
  },
  {
   "cell_type": "markdown",
   "id": "8b419b23-7fbb-45fc-b6a1-bed19780ac1f",
   "metadata": {},
   "source": [
    "# Ans5-"
   ]
  },
  {
   "cell_type": "code",
   "execution_count": 24,
   "id": "0ad4007a-bb64-4966-b1c9-e030cf1fe944",
   "metadata": {},
   "outputs": [],
   "source": [
    "num_array=np.zeros((3,3),dtype='float')"
   ]
  },
  {
   "cell_type": "code",
   "execution_count": 25,
   "id": "dd590140-13c0-451d-8003-1b66961c7729",
   "metadata": {},
   "outputs": [
    {
     "data": {
      "text/plain": [
       "array([[0., 0., 0.],\n",
       "       [0., 0., 0.],\n",
       "       [0., 0., 0.]])"
      ]
     },
     "execution_count": 25,
     "metadata": {},
     "output_type": "execute_result"
    }
   ],
   "source": [
    "num_array"
   ]
  },
  {
   "cell_type": "markdown",
   "id": "9d6dbc37-fd4b-4416-a17e-5be4b67c48b4",
   "metadata": {},
   "source": [
    "# Ans6-"
   ]
  },
  {
   "cell_type": "code",
   "execution_count": 27,
   "id": "addcaa65-fc4a-4f59-b0e0-8bec9bd6c66e",
   "metadata": {},
   "outputs": [
    {
     "ename": "TypeError",
     "evalue": "'tuple' object cannot be interpreted as an integer",
     "output_type": "error",
     "traceback": [
      "\u001b[0;31m---------------------------------------------------------------------------\u001b[0m",
      "\u001b[0;31mTypeError\u001b[0m                                 Traceback (most recent call last)",
      "Cell \u001b[0;32mIn[27], line 2\u001b[0m\n\u001b[1;32m      1\u001b[0m \u001b[38;5;66;03m# ceate the identity matrix\u001b[39;00m\n\u001b[0;32m----> 2\u001b[0m identity_matrix\u001b[38;5;241m=\u001b[39m\u001b[43mnp\u001b[49m\u001b[38;5;241;43m.\u001b[39;49m\u001b[43meye\u001b[49m\u001b[43m(\u001b[49m\u001b[43m(\u001b[49m\u001b[38;5;241;43m3\u001b[39;49m\u001b[43m,\u001b[49m\u001b[38;5;241;43m3\u001b[39;49m\u001b[43m)\u001b[49m\u001b[43m,\u001b[49m\u001b[43mdtype\u001b[49m\u001b[38;5;241;43m=\u001b[39;49m\u001b[38;5;124;43m'\u001b[39;49m\u001b[38;5;124;43mint\u001b[39;49m\u001b[38;5;124;43m'\u001b[39;49m\u001b[43m)\u001b[49m\n",
      "File \u001b[0;32m/opt/conda/lib/python3.10/site-packages/numpy/lib/twodim_base.py:215\u001b[0m, in \u001b[0;36meye\u001b[0;34m(N, M, k, dtype, order, like)\u001b[0m\n\u001b[1;32m    213\u001b[0m \u001b[38;5;28;01mif\u001b[39;00m M \u001b[38;5;129;01mis\u001b[39;00m \u001b[38;5;28;01mNone\u001b[39;00m:\n\u001b[1;32m    214\u001b[0m     M \u001b[38;5;241m=\u001b[39m N\n\u001b[0;32m--> 215\u001b[0m m \u001b[38;5;241m=\u001b[39m \u001b[43mzeros\u001b[49m\u001b[43m(\u001b[49m\u001b[43m(\u001b[49m\u001b[43mN\u001b[49m\u001b[43m,\u001b[49m\u001b[43m \u001b[49m\u001b[43mM\u001b[49m\u001b[43m)\u001b[49m\u001b[43m,\u001b[49m\u001b[43m \u001b[49m\u001b[43mdtype\u001b[49m\u001b[38;5;241;43m=\u001b[39;49m\u001b[43mdtype\u001b[49m\u001b[43m,\u001b[49m\u001b[43m \u001b[49m\u001b[43morder\u001b[49m\u001b[38;5;241;43m=\u001b[39;49m\u001b[43morder\u001b[49m\u001b[43m)\u001b[49m\n\u001b[1;32m    216\u001b[0m \u001b[38;5;28;01mif\u001b[39;00m k \u001b[38;5;241m>\u001b[39m\u001b[38;5;241m=\u001b[39m M:\n\u001b[1;32m    217\u001b[0m     \u001b[38;5;28;01mreturn\u001b[39;00m m\n",
      "\u001b[0;31mTypeError\u001b[0m: 'tuple' object cannot be interpreted as an integer"
     ]
    }
   ],
   "source": [
    "# ceate the identity matrix\n",
    "identity_matrix=np.eye((3,3),dtype='int')"
   ]
  },
  {
   "cell_type": "code",
   "execution_count": null,
   "id": "de74e54b-52f7-4532-91b8-642fdd709eef",
   "metadata": {},
   "outputs": [],
   "source": []
  }
 ],
 "metadata": {
  "kernelspec": {
   "display_name": "Python 3 (ipykernel)",
   "language": "python",
   "name": "python3"
  },
  "language_info": {
   "codemirror_mode": {
    "name": "ipython",
    "version": 3
   },
   "file_extension": ".py",
   "mimetype": "text/x-python",
   "name": "python",
   "nbconvert_exporter": "python",
   "pygments_lexer": "ipython3",
   "version": "3.10.8"
  }
 },
 "nbformat": 4,
 "nbformat_minor": 5
}
